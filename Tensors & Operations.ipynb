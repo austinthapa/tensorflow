{
 "cells": [
  {
   "cell_type": "code",
   "execution_count": 3,
   "id": "3dfcd272",
   "metadata": {
    "tags": []
   },
   "outputs": [
    {
     "name": "stderr",
     "output_type": "stream",
     "text": [
      "2024-08-30 18:26:41.782061: I tensorflow/core/platform/cpu_feature_guard.cc:210] This TensorFlow binary is optimized to use available CPU instructions in performance-critical operations.\n",
      "To enable the following instructions: AVX2 FMA, in other operations, rebuild TensorFlow with the appropriate compiler flags.\n"
     ]
    }
   ],
   "source": [
    "import tensorflow as tf"
   ]
  },
  {
   "cell_type": "code",
   "execution_count": 4,
   "id": "acc651d4",
   "metadata": {
    "tags": []
   },
   "outputs": [
    {
     "data": {
      "text/plain": [
       "'2.16.1'"
      ]
     },
     "execution_count": 4,
     "metadata": {},
     "output_type": "execute_result"
    }
   ],
   "source": [
    "tf.__version__"
   ]
  },
  {
   "cell_type": "markdown",
   "id": "c3f843cc",
   "metadata": {},
   "source": [
    "## Basics of Tensor Operations"
   ]
  },
  {
   "cell_type": "code",
   "execution_count": 3,
   "id": "43d7faac",
   "metadata": {},
   "outputs": [],
   "source": [
    "a = tf.constant([[1, 2],[3, 4]], dtype = tf.float32)\n",
    "b = tf.constant([[5, 6],[7, 8]], dtype = tf.float32)"
   ]
  },
  {
   "cell_type": "code",
   "execution_count": 4,
   "id": "aa4f27db",
   "metadata": {},
   "outputs": [
    {
     "name": "stdout",
     "output_type": "stream",
     "text": [
      "tf.Tensor(\n",
      "[[1. 2.]\n",
      " [3. 4.]], shape=(2, 2), dtype=float32)\n"
     ]
    }
   ],
   "source": [
    "print(a)"
   ]
  },
  {
   "cell_type": "code",
   "execution_count": 5,
   "id": "84e14e15",
   "metadata": {},
   "outputs": [
    {
     "name": "stdout",
     "output_type": "stream",
     "text": [
      "tf.Tensor(\n",
      "[[5. 6.]\n",
      " [7. 8.]], shape=(2, 2), dtype=float32)\n"
     ]
    }
   ],
   "source": [
    "print(b)"
   ]
  },
  {
   "cell_type": "markdown",
   "id": "e2edfc1c",
   "metadata": {},
   "source": [
    "## Arithematic Operations"
   ]
  },
  {
   "cell_type": "markdown",
   "id": "d3495fa4",
   "metadata": {},
   "source": [
    "- tf.add()<br>\n",
    "- tf.subtract()<br>\n",
    "- tf.multiply()<br>\n",
    "- tf.divide()"
   ]
  },
  {
   "cell_type": "code",
   "execution_count": 6,
   "id": "912b7ea4",
   "metadata": {},
   "outputs": [
    {
     "data": {
      "text/plain": [
       "<tf.Tensor: shape=(2, 2), dtype=float32, numpy=\n",
       "array([[ 6.,  8.],\n",
       "       [10., 12.]], dtype=float32)>"
      ]
     },
     "execution_count": 6,
     "metadata": {},
     "output_type": "execute_result"
    }
   ],
   "source": [
    "tf.add(a, b)"
   ]
  },
  {
   "cell_type": "code",
   "execution_count": 7,
   "id": "166e3d1f",
   "metadata": {},
   "outputs": [
    {
     "data": {
      "text/plain": [
       "<tf.Tensor: shape=(2, 2), dtype=float32, numpy=\n",
       "array([[-4., -4.],\n",
       "       [-4., -4.]], dtype=float32)>"
      ]
     },
     "execution_count": 7,
     "metadata": {},
     "output_type": "execute_result"
    }
   ],
   "source": [
    "tf.subtract(a, b)"
   ]
  },
  {
   "cell_type": "code",
   "execution_count": 8,
   "id": "9b97aac1",
   "metadata": {},
   "outputs": [
    {
     "data": {
      "text/plain": [
       "<tf.Tensor: shape=(2, 2), dtype=float32, numpy=\n",
       "array([[ 5., 12.],\n",
       "       [21., 32.]], dtype=float32)>"
      ]
     },
     "execution_count": 8,
     "metadata": {},
     "output_type": "execute_result"
    }
   ],
   "source": [
    "tf.multiply(a, b)"
   ]
  },
  {
   "cell_type": "code",
   "execution_count": 9,
   "id": "62e45103",
   "metadata": {},
   "outputs": [
    {
     "data": {
      "text/plain": [
       "<tf.Tensor: shape=(2, 2), dtype=float32, numpy=\n",
       "array([[0.2       , 0.33333334],\n",
       "       [0.42857143, 0.5       ]], dtype=float32)>"
      ]
     },
     "execution_count": 9,
     "metadata": {},
     "output_type": "execute_result"
    }
   ],
   "source": [
    "tf.divide(a, b)"
   ]
  },
  {
   "cell_type": "markdown",
   "id": "6247d4a5",
   "metadata": {},
   "source": [
    "## Mathematical Functions"
   ]
  },
  {
   "cell_type": "markdown",
   "id": "4a2ce686-7675-40f8-97e3-db1cdec1f5cb",
   "metadata": {},
   "source": [
    "- tf.square()<br>\n",
    "- tf.sqrt()<br>\n",
    "- tf.exp()<br>\n",
    "- tf.math.log()<br>"
   ]
  },
  {
   "cell_type": "code",
   "execution_count": 33,
   "id": "63892050",
   "metadata": {},
   "outputs": [
    {
     "data": {
      "text/plain": [
       "<tf.Tensor: shape=(2, 2), dtype=float32, numpy=\n",
       "array([[ 1.,  4.],\n",
       "       [ 9., 16.]], dtype=float32)>"
      ]
     },
     "execution_count": 33,
     "metadata": {},
     "output_type": "execute_result"
    }
   ],
   "source": [
    "tf.square(a)"
   ]
  },
  {
   "cell_type": "code",
   "execution_count": 34,
   "id": "467a6779",
   "metadata": {},
   "outputs": [
    {
     "data": {
      "text/plain": [
       "<tf.Tensor: shape=(2, 2), dtype=float32, numpy=\n",
       "array([[2.236068 , 2.4494898],\n",
       "       [2.6457512, 2.828427 ]], dtype=float32)>"
      ]
     },
     "execution_count": 34,
     "metadata": {},
     "output_type": "execute_result"
    }
   ],
   "source": [
    "tf.sqrt(b)"
   ]
  },
  {
   "cell_type": "code",
   "execution_count": 35,
   "id": "6f62421a",
   "metadata": {},
   "outputs": [
    {
     "data": {
      "text/plain": [
       "<tf.Tensor: shape=(2, 2), dtype=float32, numpy=\n",
       "array([[1.609438 , 1.7917595],\n",
       "       [1.9459101, 2.0794415]], dtype=float32)>"
      ]
     },
     "execution_count": 35,
     "metadata": {},
     "output_type": "execute_result"
    }
   ],
   "source": [
    "tf.math.log(b)"
   ]
  },
  {
   "cell_type": "code",
   "execution_count": 36,
   "id": "e176dffb",
   "metadata": {},
   "outputs": [
    {
     "data": {
      "text/plain": [
       "<tf.Tensor: shape=(2, 2), dtype=float32, numpy=\n",
       "array([[ 2.7182817,  7.389056 ],\n",
       "       [20.085537 , 54.59815  ]], dtype=float32)>"
      ]
     },
     "execution_count": 36,
     "metadata": {},
     "output_type": "execute_result"
    }
   ],
   "source": [
    "tf.exp(a)"
   ]
  },
  {
   "cell_type": "markdown",
   "id": "25e6d168",
   "metadata": {},
   "source": [
    "## Reduction Operations"
   ]
  },
  {
   "cell_type": "markdown",
   "id": "602ac9ca-2987-4012-aeaa-84cf4d3c694a",
   "metadata": {},
   "source": [
    "- tf.reduce_mean()<br>\n",
    "- tf.reduce_sum()<br>\n",
    "- tf.reduce_max() <br>\n",
    "- tf.reduce_min()"
   ]
  },
  {
   "cell_type": "code",
   "execution_count": 39,
   "id": "242e8f73",
   "metadata": {},
   "outputs": [
    {
     "name": "stdout",
     "output_type": "stream",
     "text": [
      "tf.Tensor(\n",
      "[[ 1  2  3  4  5]\n",
      " [ 6  7  8  9 10]\n",
      " [ 5  7  8  1  8]\n",
      " [ 7  4  1  8  9]], shape=(4, 5), dtype=int32)\n"
     ]
    }
   ],
   "source": [
    "c = tf.constant([[1,2,3,4,5],[6,7,8,9,10],[5,7,8,1,8],[7,4,1,8,9]])\n",
    "print(c)"
   ]
  },
  {
   "cell_type": "code",
   "execution_count": 41,
   "id": "76f04d5e",
   "metadata": {},
   "outputs": [
    {
     "data": {
      "text/plain": [
       "<tf.Tensor: shape=(5,), dtype=int32, numpy=array([4, 5, 5, 5, 8], dtype=int32)>"
      ]
     },
     "execution_count": 41,
     "metadata": {},
     "output_type": "execute_result"
    }
   ],
   "source": [
    "tf.reduce_mean(c, axis = 0)"
   ]
  },
  {
   "cell_type": "code",
   "execution_count": 42,
   "id": "e6351ad3",
   "metadata": {},
   "outputs": [
    {
     "data": {
      "text/plain": [
       "<tf.Tensor: shape=(5,), dtype=int32, numpy=array([19, 20, 20, 22, 32], dtype=int32)>"
      ]
     },
     "execution_count": 42,
     "metadata": {},
     "output_type": "execute_result"
    }
   ],
   "source": [
    "tf.reduce_sum(c, axis  = 0)"
   ]
  },
  {
   "cell_type": "code",
   "execution_count": 43,
   "id": "4d5ec9a9",
   "metadata": {},
   "outputs": [
    {
     "data": {
      "text/plain": [
       "<tf.Tensor: shape=(5,), dtype=int32, numpy=array([ 7,  7,  8,  9, 10], dtype=int32)>"
      ]
     },
     "execution_count": 43,
     "metadata": {},
     "output_type": "execute_result"
    }
   ],
   "source": [
    "tf.reduce_max(c, axis = 0)"
   ]
  },
  {
   "cell_type": "code",
   "execution_count": 44,
   "id": "c00a0255",
   "metadata": {},
   "outputs": [
    {
     "data": {
      "text/plain": [
       "<tf.Tensor: shape=(5,), dtype=int32, numpy=array([1, 2, 1, 1, 5], dtype=int32)>"
      ]
     },
     "execution_count": 44,
     "metadata": {},
     "output_type": "execute_result"
    }
   ],
   "source": [
    "tf.reduce_min(c, axis = 0)"
   ]
  },
  {
   "cell_type": "markdown",
   "id": "1f3f01c6",
   "metadata": {},
   "source": [
    "##  Matrix Multiplications"
   ]
  },
  {
   "cell_type": "code",
   "execution_count": 46,
   "id": "a2aebeb3",
   "metadata": {},
   "outputs": [
    {
     "data": {
      "text/plain": [
       "<tf.Tensor: shape=(2, 4), dtype=int32, numpy=\n",
       "array([[ 5,  8,  1,  2],\n",
       "       [ 7,  9, 10, 11]], dtype=int32)>"
      ]
     },
     "execution_count": 46,
     "metadata": {},
     "output_type": "execute_result"
    }
   ],
   "source": [
    "d =  tf.constant([[5,8,1,2],[7,9,10,11]])\n",
    "d"
   ]
  },
  {
   "cell_type": "code",
   "execution_count": 47,
   "id": "8bd8a718",
   "metadata": {},
   "outputs": [
    {
     "data": {
      "text/plain": [
       "<tf.Tensor: shape=(2, 2), dtype=float32, numpy=\n",
       "array([[19., 22.],\n",
       "       [43., 50.]], dtype=float32)>"
      ]
     },
     "execution_count": 47,
     "metadata": {},
     "output_type": "execute_result"
    }
   ],
   "source": [
    "tf.matmul(a, b)"
   ]
  },
  {
   "cell_type": "code",
   "execution_count": 49,
   "id": "a047a8ec",
   "metadata": {},
   "outputs": [
    {
     "data": {
      "text/plain": [
       "<tf.Tensor: shape=(4, 2), dtype=int32, numpy=\n",
       "array([[ 5,  7],\n",
       "       [ 8,  9],\n",
       "       [ 1, 10],\n",
       "       [ 2, 11]], dtype=int32)>"
      ]
     },
     "execution_count": 49,
     "metadata": {},
     "output_type": "execute_result"
    }
   ],
   "source": [
    "tf.transpose(d)"
   ]
  },
  {
   "cell_type": "code",
   "execution_count": 52,
   "id": "22a29fd1",
   "metadata": {},
   "outputs": [
    {
     "data": {
      "text/plain": [
       "<tf.Tensor: shape=(2, 2), dtype=float32, numpy=\n",
       "array([[-2.0000002 ,  1.0000001 ],\n",
       "       [ 1.5000001 , -0.50000006]], dtype=float32)>"
      ]
     },
     "execution_count": 52,
     "metadata": {},
     "output_type": "execute_result"
    }
   ],
   "source": [
    "tf.linalg.inv(a)"
   ]
  },
  {
   "cell_type": "code",
   "execution_count": 53,
   "id": "6d4a71a4",
   "metadata": {},
   "outputs": [
    {
     "data": {
      "text/plain": [
       "<tf.Tensor: shape=(2, 2), dtype=float32, numpy=\n",
       "array([[-4.000002 ,  3.0000014],\n",
       "       [ 3.5000017, -2.5000012]], dtype=float32)>"
      ]
     },
     "execution_count": 53,
     "metadata": {},
     "output_type": "execute_result"
    }
   ],
   "source": [
    "tf.linalg.inv(b)"
   ]
  },
  {
   "cell_type": "markdown",
   "id": "602b8fbb",
   "metadata": {},
   "source": [
    "## Indexing & Slicing"
   ]
  },
  {
   "cell_type": "code",
   "execution_count": 55,
   "id": "217ef3ac",
   "metadata": {},
   "outputs": [
    {
     "name": "stdout",
     "output_type": "stream",
     "text": [
      "tf.Tensor(\n",
      "[[ 5  8  1  2]\n",
      " [ 7  9 10 11]], shape=(2, 4), dtype=int32)\n"
     ]
    }
   ],
   "source": [
    "print(d)"
   ]
  },
  {
   "cell_type": "code",
   "execution_count": 56,
   "id": "fc2443e5",
   "metadata": {},
   "outputs": [
    {
     "data": {
      "text/plain": [
       "<tf.Tensor: shape=(), dtype=int32, numpy=5>"
      ]
     },
     "execution_count": 56,
     "metadata": {},
     "output_type": "execute_result"
    }
   ],
   "source": [
    "d[0,0]"
   ]
  },
  {
   "cell_type": "code",
   "execution_count": 57,
   "id": "8bc485fb",
   "metadata": {},
   "outputs": [
    {
     "data": {
      "text/plain": [
       "<tf.Tensor: shape=(), dtype=int32, numpy=1>"
      ]
     },
     "execution_count": 57,
     "metadata": {},
     "output_type": "execute_result"
    }
   ],
   "source": [
    "d[0,2]"
   ]
  },
  {
   "cell_type": "code",
   "execution_count": 60,
   "id": "1c031e31",
   "metadata": {},
   "outputs": [
    {
     "data": {
      "text/plain": [
       "<tf.Tensor: shape=(), dtype=int32, numpy=11>"
      ]
     },
     "execution_count": 60,
     "metadata": {},
     "output_type": "execute_result"
    }
   ],
   "source": [
    "d[1, 3]"
   ]
  },
  {
   "cell_type": "markdown",
   "id": "31eb571a",
   "metadata": {},
   "source": [
    "## Broadcasting"
   ]
  },
  {
   "cell_type": "code",
   "execution_count": 62,
   "id": "9ecb8b22",
   "metadata": {},
   "outputs": [
    {
     "name": "stdout",
     "output_type": "stream",
     "text": [
      "tf.Tensor(\n",
      "[[ 5  8  1  2]\n",
      " [ 7  9 10 11]], shape=(2, 4), dtype=int32)\n"
     ]
    }
   ],
   "source": [
    "print(d)"
   ]
  },
  {
   "cell_type": "code",
   "execution_count": 64,
   "id": "47f08663",
   "metadata": {},
   "outputs": [
    {
     "name": "stdout",
     "output_type": "stream",
     "text": [
      "tf.Tensor([4 8 1 5], shape=(4,), dtype=int32)\n"
     ]
    }
   ],
   "source": [
    "e = tf.constant([4,8,1,5])\n",
    "print(e)"
   ]
  },
  {
   "cell_type": "code",
   "execution_count": 65,
   "id": "d74f4866",
   "metadata": {},
   "outputs": [
    {
     "data": {
      "text/plain": [
       "<tf.Tensor: shape=(2, 4), dtype=int32, numpy=\n",
       "array([[ 9, 16,  2,  7],\n",
       "       [11, 17, 11, 16]], dtype=int32)>"
      ]
     },
     "execution_count": 65,
     "metadata": {},
     "output_type": "execute_result"
    }
   ],
   "source": [
    "tf.add(d, e)"
   ]
  },
  {
   "cell_type": "code",
   "execution_count": null,
   "id": "684c8849",
   "metadata": {},
   "outputs": [],
   "source": []
  },
  {
   "cell_type": "markdown",
   "id": "ff1ee929-a53f-4045-bb8f-71a2d7c6e163",
   "metadata": {
    "tags": []
   },
   "source": [
    "## Variables in TensorFloe"
   ]
  },
  {
   "cell_type": "code",
   "execution_count": 12,
   "id": "ec9df787",
   "metadata": {
    "tags": []
   },
   "outputs": [],
   "source": [
    "initial_values = tf.random.normal(shape = (6, 7))\n",
    "\n",
    "variable_tensor = tf.Variable(initial_values)"
   ]
  },
  {
   "cell_type": "code",
   "execution_count": 13,
   "id": "3d054491-f87c-478c-ab67-851bb380168e",
   "metadata": {
    "tags": []
   },
   "outputs": [
    {
     "data": {
      "text/plain": [
       "<tf.Variable 'Variable:0' shape=(6, 7) dtype=float32, numpy=\n",
       "array([[-0.5395072 ,  1.2321668 ,  0.40843126,  0.41338095,  0.16773634,\n",
       "        -0.40036005, -0.05249739],\n",
       "       [ 1.9597858 ,  0.4069471 , -0.2784195 ,  0.7447466 , -0.13363121,\n",
       "        -0.39932537,  0.27194655],\n",
       "       [-1.3706888 ,  0.1979829 ,  0.7772714 ,  0.62979335,  1.0546943 ,\n",
       "         0.2645205 , -0.09826523],\n",
       "       [ 0.3331402 ,  0.24735078,  1.8395106 ,  0.31771377, -0.12550296,\n",
       "        -0.44772667, -1.1808784 ],\n",
       "       [ 1.6418152 , -0.07594151,  0.28777117,  0.46202505, -0.8885841 ,\n",
       "         0.27351645, -0.01038177],\n",
       "       [ 0.21169873, -0.24136752,  0.43973795, -0.9798966 ,  0.98947775,\n",
       "         0.7469706 ,  0.19179462]], dtype=float32)>"
      ]
     },
     "execution_count": 13,
     "metadata": {},
     "output_type": "execute_result"
    }
   ],
   "source": [
    "variable_tensor"
   ]
  },
  {
   "cell_type": "code",
   "execution_count": 17,
   "id": "1eff260f-ce83-49b8-b974-ccf0f7feffda",
   "metadata": {
    "tags": []
   },
   "outputs": [
    {
     "data": {
      "text/plain": [
       "<tf.Tensor: shape=(6, 7), dtype=float32, numpy=\n",
       "array([[ 0.15558913,  0.5384732 ,  0.03259306,  0.6926509 , -0.45386443,\n",
       "        -2.370869  , -1.4132535 ],\n",
       "       [-0.20217757, -1.1573515 ,  0.9809316 , -0.577549  ,  0.5732406 ,\n",
       "        -0.19011126, -1.1170092 ],\n",
       "       [-0.13428691,  0.29195076, -2.4436715 ,  1.0787627 , -0.6507687 ,\n",
       "        -0.96080536, -0.40675795],\n",
       "       [-1.4706616 , -0.93075836,  2.0343356 , -0.17838494, -1.5043135 ,\n",
       "        -2.1709146 ,  1.2329742 ],\n",
       "       [ 0.7805299 ,  1.3937447 ,  0.677938  , -0.66967005,  0.73782134,\n",
       "        -0.4969616 ,  0.90960824],\n",
       "       [ 0.94206715, -1.332901  ,  0.18206404, -0.8187212 ,  0.92301023,\n",
       "        -0.1401307 , -0.2755052 ]], dtype=float32)>"
      ]
     },
     "execution_count": 17,
     "metadata": {},
     "output_type": "execute_result"
    }
   ],
   "source": [
    "new_values = tf.random.normal(shape = (6, 7))\n",
    "new_values"
   ]
  },
  {
   "cell_type": "code",
   "execution_count": 18,
   "id": "a58f74bc-3328-4469-8c77-cfe50df2fd6b",
   "metadata": {
    "tags": []
   },
   "outputs": [
    {
     "data": {
      "text/plain": [
       "<tf.Variable 'UnreadVariable' shape=(6, 7) dtype=float32, numpy=\n",
       "array([[ 0.15558913,  0.5384732 ,  0.03259306,  0.6926509 , -0.45386443,\n",
       "        -2.370869  , -1.4132535 ],\n",
       "       [-0.20217757, -1.1573515 ,  0.9809316 , -0.577549  ,  0.5732406 ,\n",
       "        -0.19011126, -1.1170092 ],\n",
       "       [-0.13428691,  0.29195076, -2.4436715 ,  1.0787627 , -0.6507687 ,\n",
       "        -0.96080536, -0.40675795],\n",
       "       [-1.4706616 , -0.93075836,  2.0343356 , -0.17838494, -1.5043135 ,\n",
       "        -2.1709146 ,  1.2329742 ],\n",
       "       [ 0.7805299 ,  1.3937447 ,  0.677938  , -0.66967005,  0.73782134,\n",
       "        -0.4969616 ,  0.90960824],\n",
       "       [ 0.94206715, -1.332901  ,  0.18206404, -0.8187212 ,  0.92301023,\n",
       "        -0.1401307 , -0.2755052 ]], dtype=float32)>"
      ]
     },
     "execution_count": 18,
     "metadata": {},
     "output_type": "execute_result"
    }
   ],
   "source": [
    "variable_tensor.assign(new_values)"
   ]
  },
  {
   "cell_type": "code",
   "execution_count": 19,
   "id": "b889e22b-be97-4135-8f70-b1dee532819a",
   "metadata": {
    "tags": []
   },
   "outputs": [
    {
     "data": {
      "text/plain": [
       "<tf.Variable 'Variable:0' shape=(6, 7) dtype=float32, numpy=\n",
       "array([[ 0.15558913,  0.5384732 ,  0.03259306,  0.6926509 , -0.45386443,\n",
       "        -2.370869  , -1.4132535 ],\n",
       "       [-0.20217757, -1.1573515 ,  0.9809316 , -0.577549  ,  0.5732406 ,\n",
       "        -0.19011126, -1.1170092 ],\n",
       "       [-0.13428691,  0.29195076, -2.4436715 ,  1.0787627 , -0.6507687 ,\n",
       "        -0.96080536, -0.40675795],\n",
       "       [-1.4706616 , -0.93075836,  2.0343356 , -0.17838494, -1.5043135 ,\n",
       "        -2.1709146 ,  1.2329742 ],\n",
       "       [ 0.7805299 ,  1.3937447 ,  0.677938  , -0.66967005,  0.73782134,\n",
       "        -0.4969616 ,  0.90960824],\n",
       "       [ 0.94206715, -1.332901  ,  0.18206404, -0.8187212 ,  0.92301023,\n",
       "        -0.1401307 , -0.2755052 ]], dtype=float32)>"
      ]
     },
     "execution_count": 19,
     "metadata": {},
     "output_type": "execute_result"
    }
   ],
   "source": [
    "variable_tensor"
   ]
  },
  {
   "cell_type": "code",
   "execution_count": 20,
   "id": "45cec0c8-c5ba-4600-ba7e-5a15f8715997",
   "metadata": {
    "tags": []
   },
   "outputs": [],
   "source": [
    "weight = tf.Variable(3)"
   ]
  },
  {
   "cell_type": "code",
   "execution_count": 21,
   "id": "a411d135-6dd4-4603-a6cc-a7d006e27de1",
   "metadata": {
    "tags": []
   },
   "outputs": [
    {
     "data": {
      "text/plain": [
       "<tf.Variable 'Variable:0' shape=() dtype=int32, numpy=3>"
      ]
     },
     "execution_count": 21,
     "metadata": {},
     "output_type": "execute_result"
    }
   ],
   "source": [
    "weight"
   ]
  },
  {
   "cell_type": "code",
   "execution_count": 22,
   "id": "f0d0295f-b60d-4be0-892a-79a4e083e217",
   "metadata": {
    "tags": []
   },
   "outputs": [
    {
     "data": {
      "text/plain": [
       "<tf.Variable 'Variable:0' shape=(5, 6) dtype=float32, numpy=\n",
       "array([[-0.20981984,  0.46899185, -0.4642803 ,  0.6854699 , -0.8221248 ,\n",
       "        -0.8806995 ],\n",
       "       [ 0.77303034,  0.44080666, -0.3428576 ,  0.5066898 , -2.5691123 ,\n",
       "        -1.0802735 ],\n",
       "       [ 0.97148365,  0.6410805 ,  1.1523584 ,  0.6391375 ,  1.278737  ,\n",
       "        -0.43249276],\n",
       "       [-1.1467807 , -1.0875322 , -0.9875282 ,  0.4682523 ,  0.20904015,\n",
       "        -0.5785452 ],\n",
       "       [-1.576418  , -0.42675105,  1.9136455 ,  1.0131806 ,  0.47654918,\n",
       "        -0.8509015 ]], dtype=float32)>"
      ]
     },
     "execution_count": 22,
     "metadata": {},
     "output_type": "execute_result"
    }
   ],
   "source": [
    "tf.Variable(tf.random.normal(shape = (5, 6)))"
   ]
  },
  {
   "cell_type": "code",
   "execution_count": null,
   "id": "4bf5e61f-56e9-4868-a7b2-b1c2a31690d4",
   "metadata": {},
   "outputs": [],
   "source": []
  }
 ],
 "metadata": {
  "kernelspec": {
   "display_name": "Python 3 (ipykernel)",
   "language": "python",
   "name": "python3"
  },
  "language_info": {
   "codemirror_mode": {
    "name": "ipython",
    "version": 3
   },
   "file_extension": ".py",
   "mimetype": "text/x-python",
   "name": "python",
   "nbconvert_exporter": "python",
   "pygments_lexer": "ipython3",
   "version": "3.11.4"
  }
 },
 "nbformat": 4,
 "nbformat_minor": 5
}
