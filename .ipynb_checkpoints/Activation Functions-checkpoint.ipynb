{
 "cells": [
  {
   "cell_type": "code",
   "execution_count": 38,
   "id": "64e8e9e2-ebc8-4f8e-8bdc-58d06c5dae11",
   "metadata": {
    "tags": []
   },
   "outputs": [],
   "source": [
    "import tensorflow as tf"
   ]
  },
  {
   "cell_type": "markdown",
   "id": "d95f35d3-7240-4e93-acb4-31d05bdd8273",
   "metadata": {
    "tags": []
   },
   "source": [
    "## Activation Function"
   ]
  },
  {
   "cell_type": "markdown",
   "id": "a02bbe38-53dc-4e37-b476-6b1851c3085d",
   "metadata": {
    "tags": []
   },
   "source": [
    "## Linear Activation Function (Identiity Function)"
   ]
  },
  {
   "cell_type": "markdown",
   "id": "a7677495-3fb5-4002-8818-b10695560f32",
   "metadata": {},
   "source": [
    "### y = x"
   ]
  },
  {
   "cell_type": "code",
   "execution_count": 46,
   "id": "9623d95c-1d09-4b96-b756-33f8684ba542",
   "metadata": {
    "tags": []
   },
   "outputs": [],
   "source": [
    "output = tf.keras.activations.linear(input)"
   ]
  },
  {
   "cell_type": "markdown",
   "id": "7c87d61d-c83f-4d53-883b-02b7bfa0150e",
   "metadata": {
    "tags": []
   },
   "source": [
    "## Sigmoid / Logistics Function"
   ]
  },
  {
   "cell_type": "markdown",
   "id": "4374b8aa-a166-4d29-9b19-f768ee56d452",
   "metadata": {
    "tags": []
   },
   "source": [
    "### y = 1 / (1+ e ^ (-x))"
   ]
  },
  {
   "cell_type": "code",
   "execution_count": null,
   "id": "d573365b-6389-4760-8980-65596b87d276",
   "metadata": {},
   "outputs": [],
   "source": [
    "output = tf.keras.activations.sigmoid(input)"
   ]
  },
  {
   "cell_type": "markdown",
   "id": "d08f8eb8-ff65-4a82-af2b-9d99e43ec9b3",
   "metadata": {
    "tags": []
   },
   "source": [
    "## Hyperbolic Tan Function"
   ]
  },
  {
   "cell_type": "markdown",
   "id": "281e39d8-36fc-49fa-94b3-ec88da64fefd",
   "metadata": {
    "tags": []
   },
   "source": [
    "### y = (e^x - e^(-x))/(e^x = e^(-x))"
   ]
  },
  {
   "cell_type": "code",
   "execution_count": null,
   "id": "c308d09d-4569-42ae-aae7-9e6069dadfaf",
   "metadata": {},
   "outputs": [],
   "source": [
    "output = tf.keras.activations.tanh(input)"
   ]
  },
  {
   "cell_type": "markdown",
   "id": "ea097729-b542-411b-b6a0-6c0c82f69db4",
   "metadata": {
    "tags": []
   },
   "source": [
    "## Rectified Linear Unit (ReLU)"
   ]
  },
  {
   "cell_type": "markdown",
   "id": "6ab4c159-1092-4094-b0ba-33c21a9b7251",
   "metadata": {},
   "source": [
    "### y = max(0, x)"
   ]
  },
  {
   "cell_type": "code",
   "execution_count": null,
   "id": "bfb7c976-5e81-4285-ae30-56ec87c60454",
   "metadata": {},
   "outputs": [],
   "source": [
    "output = tf.keras.activations.relu(input)"
   ]
  },
  {
   "cell_type": "markdown",
   "id": "00aa2293-0391-448e-ab7f-4d92523bd41d",
   "metadata": {
    "tags": []
   },
   "source": [
    "## Leaky Rectified Linear Unit(Leaky ReLU)"
   ]
  },
  {
   "cell_type": "markdown",
   "id": "09465163-5555-4284-a198-a3e2641e8c61",
   "metadata": {},
   "source": [
    "### y = max(alpha . x, x,)"
   ]
  },
  {
   "cell_type": "code",
   "execution_count": null,
   "id": "aae7d8cd-fbab-490e-87b3-7b80c76570ec",
   "metadata": {},
   "outputs": [],
   "source": [
    "output = tf.keras.activations.LeakyReLU(alpha = 0.2)(input)"
   ]
  },
  {
   "cell_type": "markdown",
   "id": "cdcca495-0e05-49dc-9a66-f73dd01fc2ca",
   "metadata": {
    "tags": []
   },
   "source": [
    "## Softmax Function"
   ]
  },
  {
   "cell_type": "markdown",
   "id": "0138eb9e-b0f7-45df-8d8c-cd2e18f4d1ed",
   "metadata": {},
   "source": [
    "### y = exp(x) / sum(exp(x))"
   ]
  },
  {
   "cell_type": "code",
   "execution_count": null,
   "id": "f3681991-b608-406f-9d82-5d69b0a3a15b",
   "metadata": {},
   "outputs": [],
   "source": [
    "output = tf.keras.activations.softmax(input)"
   ]
  }
 ],
 "metadata": {
  "kernelspec": {
   "display_name": "Python 3 (ipykernel)",
   "language": "python",
   "name": "python3"
  },
  "language_info": {
   "codemirror_mode": {
    "name": "ipython",
    "version": 3
   },
   "file_extension": ".py",
   "mimetype": "text/x-python",
   "name": "python",
   "nbconvert_exporter": "python",
   "pygments_lexer": "ipython3",
   "version": "3.11.4"
  }
 },
 "nbformat": 4,
 "nbformat_minor": 5
}
