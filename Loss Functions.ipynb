{
 "cells": [
  {
   "cell_type": "markdown",
   "id": "bbe6f84b-2b22-4096-8c3c-7dd7802e9b06",
   "metadata": {
    "tags": []
   },
   "source": [
    "# Loss Function"
   ]
  },
  {
   "cell_type": "code",
   "execution_count": 2,
   "id": "d9c0e7c3-9654-4b6d-b89b-a864c219b7b3",
   "metadata": {
    "tags": []
   },
   "outputs": [
    {
     "name": "stderr",
     "output_type": "stream",
     "text": [
      "2024-08-30 18:50:46.777232: I tensorflow/core/platform/cpu_feature_guard.cc:210] This TensorFlow binary is optimized to use available CPU instructions in performance-critical operations.\n",
      "To enable the following instructions: AVX2 FMA, in other operations, rebuild TensorFlow with the appropriate compiler flags.\n"
     ]
    }
   ],
   "source": [
    "import tensorflow as tf"
   ]
  },
  {
   "cell_type": "code",
   "execution_count": 3,
   "id": "dd58ed07-e640-4787-8277-7ff8f1132f76",
   "metadata": {
    "tags": []
   },
   "outputs": [
    {
     "data": {
      "text/plain": [
       "'2.16.1'"
      ]
     },
     "execution_count": 3,
     "metadata": {},
     "output_type": "execute_result"
    }
   ],
   "source": [
    "tf.__version__"
   ]
  },
  {
   "cell_type": "markdown",
   "id": "368dd98d-35d8-40b4-8390-b5fe632c0480",
   "metadata": {
    "tags": []
   },
   "source": [
    "## Regression Loss Functions"
   ]
  },
  {
   "cell_type": "markdown",
   "id": "63601b8f-4762-45a3-bc3a-918c95a82c91",
   "metadata": {
    "tags": []
   },
   "source": [
    "### Mean Squared Error"
   ]
  },
  {
   "cell_type": "code",
   "execution_count": null,
   "id": "95fca9a0-dc97-47d0-89de-461d62fb619a",
   "metadata": {},
   "outputs": [],
   "source": [
    "tf.keras.losses.mean_squared_error()"
   ]
  },
  {
   "cell_type": "markdown",
   "id": "6fb0c341-e837-4cc3-a2ca-ab53af2a3bc0",
   "metadata": {
    "tags": []
   },
   "source": [
    "### Mean Absolute Error"
   ]
  },
  {
   "cell_type": "code",
   "execution_count": null,
   "id": "ae646e9d-0181-4fc4-b6c9-b76e48e3f1ed",
   "metadata": {},
   "outputs": [],
   "source": [
    "tf.keras.losses.mean_absolute_error()"
   ]
  },
  {
   "cell_type": "markdown",
   "id": "3b61fa29-8c38-4e83-9544-6af9e3c6e2dd",
   "metadata": {
    "tags": []
   },
   "source": [
    "## Classification Loss Functions"
   ]
  },
  {
   "cell_type": "markdown",
   "id": "c3cfce39-2339-47d0-8ebf-342055c224c2",
   "metadata": {
    "tags": []
   },
   "source": [
    "### Binary Cross Entropy"
   ]
  },
  {
   "cell_type": "code",
   "execution_count": null,
   "id": "f69c027e-9c8e-42a3-a51e-20596f484608",
   "metadata": {},
   "outputs": [],
   "source": [
    "tf.keras.losses.binary_crossentropy()"
   ]
  },
  {
   "cell_type": "markdown",
   "id": "48e2c7bb-8e3c-40f7-b22d-405398137186",
   "metadata": {},
   "source": [
    "### Categorical Cross Entropy"
   ]
  },
  {
   "cell_type": "code",
   "execution_count": null,
   "id": "e20df8c4-eee6-4771-9d7b-fc08b7d44711",
   "metadata": {},
   "outputs": [],
   "source": [
    "tf.keras.losses.categorical_crossentropy()"
   ]
  },
  {
   "cell_type": "markdown",
   "id": "3a03bd93-8983-42b6-a79f-3244e52db457",
   "metadata": {},
   "source": [
    "### Sparse Categorical Cross Entropy"
   ]
  },
  {
   "cell_type": "code",
   "execution_count": null,
   "id": "70d7b071-e00b-4771-a08e-9f9761616bd1",
   "metadata": {},
   "outputs": [],
   "source": [
    "tf.keras.losses.sparse_categorical_crossentropy()"
   ]
  }
 ],
 "metadata": {
  "kernelspec": {
   "display_name": "Python 3 (ipykernel)",
   "language": "python",
   "name": "python3"
  },
  "language_info": {
   "codemirror_mode": {
    "name": "ipython",
    "version": 3
   },
   "file_extension": ".py",
   "mimetype": "text/x-python",
   "name": "python",
   "nbconvert_exporter": "python",
   "pygments_lexer": "ipython3",
   "version": "3.11.4"
  }
 },
 "nbformat": 4,
 "nbformat_minor": 5
}
