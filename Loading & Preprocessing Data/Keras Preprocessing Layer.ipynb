{
 "cells": [
  {
   "cell_type": "code",
   "execution_count": 46,
   "id": "7f567a70",
   "metadata": {},
   "outputs": [],
   "source": [
    "import numpy as np\n",
    "import tensorflow as tf\n",
    "\n",
    "from sklearn.datasets import fetch_california_housing\n",
    "from sklearn.model_selection import train_test_split"
   ]
  },
  {
   "cell_type": "code",
   "execution_count": 3,
   "id": "9fbf6ea2",
   "metadata": {},
   "outputs": [],
   "source": [
    "housing = fetch_california_housing()"
   ]
  },
  {
   "cell_type": "code",
   "execution_count": 4,
   "id": "73defd21",
   "metadata": {},
   "outputs": [],
   "source": [
    "X, y = housing.data, housing.target"
   ]
  },
  {
   "cell_type": "code",
   "execution_count": 5,
   "id": "ff2b6213",
   "metadata": {},
   "outputs": [],
   "source": [
    "X_train_full, X_test, y_train_full, y_test = train_test_split(X, y, random_state=42, test_size=0.15)"
   ]
  },
  {
   "cell_type": "code",
   "execution_count": 6,
   "id": "3d887826",
   "metadata": {},
   "outputs": [],
   "source": [
    "X_train, X_valid, y_train, y_valid = train_test_split(X_train_full, y_train_full, random_state=42, test_size=0.15)"
   ]
  },
  {
   "cell_type": "markdown",
   "id": "0db5e821",
   "metadata": {},
   "source": [
    "# 1. Normalization Layer"
   ]
  },
  {
   "cell_type": "code",
   "execution_count": 7,
   "id": "59684daf",
   "metadata": {},
   "outputs": [],
   "source": [
    "norm_layer = tf.keras.layers.Normalization()"
   ]
  },
  {
   "cell_type": "code",
   "execution_count": 8,
   "id": "4a7b6c46",
   "metadata": {},
   "outputs": [],
   "source": [
    "model = tf.keras.Sequential([\n",
    "    norm_layer,\n",
    "    tf.keras.layers.Dense(1)\n",
    "])"
   ]
  },
  {
   "cell_type": "code",
   "execution_count": 9,
   "id": "257744b0",
   "metadata": {},
   "outputs": [],
   "source": [
    "model.compile(loss = 'mse', optimizer = 'adam', metrics=['accuracy'])"
   ]
  },
  {
   "cell_type": "code",
   "execution_count": 10,
   "id": "65700ae0",
   "metadata": {},
   "outputs": [],
   "source": [
    "norm_layer.adapt(X_train)"
   ]
  },
  {
   "cell_type": "code",
   "execution_count": 13,
   "id": "d14a9ad5",
   "metadata": {},
   "outputs": [
    {
     "name": "stdout",
     "output_type": "stream",
     "text": [
      "Epoch 1/5\n",
      "\u001b[1m466/466\u001b[0m \u001b[32m━━━━━━━━━━━━━━━━━━━━\u001b[0m\u001b[37m\u001b[0m \u001b[1m0s\u001b[0m 838us/step - accuracy: 0.0033 - loss: 0.5223 - val_accuracy: 0.0027 - val_loss: 0.5142\n",
      "Epoch 2/5\n",
      "\u001b[1m466/466\u001b[0m \u001b[32m━━━━━━━━━━━━━━━━━━━━\u001b[0m\u001b[37m\u001b[0m \u001b[1m0s\u001b[0m 766us/step - accuracy: 0.0032 - loss: 0.5211 - val_accuracy: 0.0027 - val_loss: 0.5132\n",
      "Epoch 3/5\n",
      "\u001b[1m466/466\u001b[0m \u001b[32m━━━━━━━━━━━━━━━━━━━━\u001b[0m\u001b[37m\u001b[0m \u001b[1m0s\u001b[0m 804us/step - accuracy: 0.0039 - loss: 0.5380 - val_accuracy: 0.0027 - val_loss: 0.5122\n",
      "Epoch 4/5\n",
      "\u001b[1m466/466\u001b[0m \u001b[32m━━━━━━━━━━━━━━━━━━━━\u001b[0m\u001b[37m\u001b[0m \u001b[1m0s\u001b[0m 796us/step - accuracy: 0.0029 - loss: 0.5286 - val_accuracy: 0.0027 - val_loss: 0.5129\n",
      "Epoch 5/5\n",
      "\u001b[1m466/466\u001b[0m \u001b[32m━━━━━━━━━━━━━━━━━━━━\u001b[0m\u001b[37m\u001b[0m \u001b[1m0s\u001b[0m 752us/step - accuracy: 0.0037 - loss: 0.5227 - val_accuracy: 0.0027 - val_loss: 0.5124\n"
     ]
    },
    {
     "data": {
      "text/plain": [
       "<keras.src.callbacks.history.History at 0x183c74a10>"
      ]
     },
     "execution_count": 13,
     "metadata": {},
     "output_type": "execute_result"
    }
   ],
   "source": [
    "model.fit(X_train, y_train, validation_data=(X_valid, y_valid), epochs=5)"
   ]
  },
  {
   "cell_type": "code",
   "execution_count": null,
   "id": "9ac25aea",
   "metadata": {},
   "outputs": [],
   "source": []
  },
  {
   "cell_type": "markdown",
   "id": "5d1cbfe9",
   "metadata": {},
   "source": [
    "# Normalization Layer"
   ]
  },
  {
   "cell_type": "code",
   "execution_count": 15,
   "id": "32077e2a",
   "metadata": {},
   "outputs": [],
   "source": [
    "norm_layer = tf.keras.layers.Normalization()"
   ]
  },
  {
   "cell_type": "code",
   "execution_count": 16,
   "id": "85c3224a",
   "metadata": {},
   "outputs": [],
   "source": [
    "model = tf.keras.Sequential([\n",
    "    norm_layer,\n",
    "    tf.keras.layers.Dense(1)\n",
    "])"
   ]
  },
  {
   "cell_type": "code",
   "execution_count": 17,
   "id": "2350f280",
   "metadata": {},
   "outputs": [],
   "source": [
    "model.compile(loss = 'mse', optimizer = 'adam')"
   ]
  },
  {
   "cell_type": "code",
   "execution_count": 18,
   "id": "89b17548",
   "metadata": {},
   "outputs": [],
   "source": [
    "norm_layer.adapt(X_train)"
   ]
  },
  {
   "cell_type": "code",
   "execution_count": 19,
   "id": "cf6b5e44",
   "metadata": {},
   "outputs": [
    {
     "name": "stdout",
     "output_type": "stream",
     "text": [
      "Epoch 1/4\n",
      "\u001b[1m466/466\u001b[0m \u001b[32m━━━━━━━━━━━━━━━━━━━━\u001b[0m\u001b[37m\u001b[0m \u001b[1m2s\u001b[0m 2ms/step - loss: 7.0463 - val_loss: 4.7949\n",
      "Epoch 2/4\n",
      "\u001b[1m466/466\u001b[0m \u001b[32m━━━━━━━━━━━━━━━━━━━━\u001b[0m\u001b[37m\u001b[0m \u001b[1m1s\u001b[0m 1ms/step - loss: 4.3112 - val_loss: 2.8976\n",
      "Epoch 3/4\n",
      "\u001b[1m466/466\u001b[0m \u001b[32m━━━━━━━━━━━━━━━━━━━━\u001b[0m\u001b[37m\u001b[0m \u001b[1m1s\u001b[0m 1ms/step - loss: 2.6425 - val_loss: 1.7562\n",
      "Epoch 4/4\n",
      "\u001b[1m466/466\u001b[0m \u001b[32m━━━━━━━━━━━━━━━━━━━━\u001b[0m\u001b[37m\u001b[0m \u001b[1m1s\u001b[0m 1ms/step - loss: 1.5569 - val_loss: 1.1229\n"
     ]
    },
    {
     "data": {
      "text/plain": [
       "<keras.src.callbacks.history.History at 0x180e63950>"
      ]
     },
     "execution_count": 19,
     "metadata": {},
     "output_type": "execute_result"
    }
   ],
   "source": [
    "model.fit(X_train, y_train, validation_data=(X_valid, y_valid), epochs=4)"
   ]
  },
  {
   "cell_type": "markdown",
   "id": "98499086",
   "metadata": {},
   "source": [
    "# Discretization Layer"
   ]
  },
  {
   "cell_type": "markdown",
   "id": "9f0a3338",
   "metadata": {},
   "source": [
    "## Example 1 - Age categories of 3"
   ]
  },
  {
   "cell_type": "code",
   "execution_count": 22,
   "id": "009ae19b",
   "metadata": {},
   "outputs": [],
   "source": [
    "age = tf.constant([[10], [93], [54], [67], [34], [16],[29], [55], [64]])"
   ]
  },
  {
   "cell_type": "code",
   "execution_count": 23,
   "id": "c473a2ec",
   "metadata": {},
   "outputs": [
    {
     "data": {
      "text/plain": [
       "<tf.Tensor: shape=(9, 1), dtype=int32, numpy=\n",
       "array([[10],\n",
       "       [93],\n",
       "       [54],\n",
       "       [67],\n",
       "       [34],\n",
       "       [16],\n",
       "       [29],\n",
       "       [55],\n",
       "       [64]], dtype=int32)>"
      ]
     },
     "execution_count": 23,
     "metadata": {},
     "output_type": "execute_result"
    }
   ],
   "source": [
    "age"
   ]
  },
  {
   "cell_type": "code",
   "execution_count": 24,
   "id": "7ac54b82",
   "metadata": {},
   "outputs": [],
   "source": [
    "discretization_layer = tf.keras.layers.Discretization(bin_boundaries=[18, 50])"
   ]
  },
  {
   "cell_type": "code",
   "execution_count": 25,
   "id": "83d455fd",
   "metadata": {},
   "outputs": [],
   "source": [
    "age_categories_1 = discretization_layer(age)"
   ]
  },
  {
   "cell_type": "code",
   "execution_count": 26,
   "id": "fb86e47f",
   "metadata": {},
   "outputs": [
    {
     "data": {
      "text/plain": [
       "<tf.Tensor: shape=(9, 1), dtype=int64, numpy=\n",
       "array([[0],\n",
       "       [2],\n",
       "       [2],\n",
       "       [2],\n",
       "       [1],\n",
       "       [0],\n",
       "       [1],\n",
       "       [2],\n",
       "       [2]])>"
      ]
     },
     "execution_count": 26,
     "metadata": {},
     "output_type": "execute_result"
    }
   ],
   "source": [
    "age_categories_1"
   ]
  },
  {
   "cell_type": "markdown",
   "id": "078233bb",
   "metadata": {},
   "source": [
    "## Example 2 - Age categories of more than 5"
   ]
  },
  {
   "cell_type": "code",
   "execution_count": 27,
   "id": "c66798c8",
   "metadata": {},
   "outputs": [],
   "source": [
    "discretization_layer = tf.keras.layers.Discretization(bin_boundaries=[5, 13, 18, 40, 60])"
   ]
  },
  {
   "cell_type": "code",
   "execution_count": 28,
   "id": "cd6078b6",
   "metadata": {},
   "outputs": [],
   "source": [
    "age = tf.constant([[2], [3], [9], [12], [13],[16],[17], [22], [32], [59], [42], [63],[69]])"
   ]
  },
  {
   "cell_type": "code",
   "execution_count": 29,
   "id": "2e5907f4",
   "metadata": {},
   "outputs": [],
   "source": [
    "age_categories_2 = discretization_layer(age)"
   ]
  },
  {
   "cell_type": "code",
   "execution_count": 30,
   "id": "a3d0fc94",
   "metadata": {},
   "outputs": [
    {
     "data": {
      "text/plain": [
       "<tf.Tensor: shape=(13, 1), dtype=int64, numpy=\n",
       "array([[0],\n",
       "       [0],\n",
       "       [1],\n",
       "       [1],\n",
       "       [2],\n",
       "       [2],\n",
       "       [2],\n",
       "       [3],\n",
       "       [3],\n",
       "       [4],\n",
       "       [4],\n",
       "       [5],\n",
       "       [5]])>"
      ]
     },
     "execution_count": 30,
     "metadata": {},
     "output_type": "execute_result"
    }
   ],
   "source": [
    "age_categories_2"
   ]
  },
  {
   "cell_type": "markdown",
   "id": "0b930f38",
   "metadata": {},
   "source": [
    "# Category Encoding"
   ]
  },
  {
   "cell_type": "markdown",
   "id": "953cab60",
   "metadata": {},
   "source": [
    "## Example 1 - three categories "
   ]
  },
  {
   "cell_type": "code",
   "execution_count": 31,
   "id": "d2814206",
   "metadata": {},
   "outputs": [],
   "source": [
    "onehot_layer_1 = tf.keras.layers.CategoryEncoding(num_tokens=3)"
   ]
  },
  {
   "cell_type": "code",
   "execution_count": 32,
   "id": "df7aa347",
   "metadata": {},
   "outputs": [
    {
     "data": {
      "text/plain": [
       "<tf.Tensor: shape=(9, 3), dtype=float32, numpy=\n",
       "array([[1., 0., 0.],\n",
       "       [0., 0., 1.],\n",
       "       [0., 0., 1.],\n",
       "       [0., 0., 1.],\n",
       "       [0., 1., 0.],\n",
       "       [1., 0., 0.],\n",
       "       [0., 1., 0.],\n",
       "       [0., 0., 1.],\n",
       "       [0., 0., 1.]], dtype=float32)>"
      ]
     },
     "execution_count": 32,
     "metadata": {},
     "output_type": "execute_result"
    }
   ],
   "source": [
    "onehot_layer_1(age_categories_1)"
   ]
  },
  {
   "cell_type": "markdown",
   "id": "f91d3dc7",
   "metadata": {},
   "source": [
    "## Example 2 - 6 categories "
   ]
  },
  {
   "cell_type": "code",
   "execution_count": 33,
   "id": "a572c436",
   "metadata": {},
   "outputs": [],
   "source": [
    "onehot_layer_2 = tf.keras.layers.CategoryEncoding(num_tokens=6)"
   ]
  },
  {
   "cell_type": "code",
   "execution_count": 34,
   "id": "f5da6ed7",
   "metadata": {},
   "outputs": [
    {
     "data": {
      "text/plain": [
       "<tf.Tensor: shape=(13, 6), dtype=float32, numpy=\n",
       "array([[1., 0., 0., 0., 0., 0.],\n",
       "       [1., 0., 0., 0., 0., 0.],\n",
       "       [0., 1., 0., 0., 0., 0.],\n",
       "       [0., 1., 0., 0., 0., 0.],\n",
       "       [0., 0., 1., 0., 0., 0.],\n",
       "       [0., 0., 1., 0., 0., 0.],\n",
       "       [0., 0., 1., 0., 0., 0.],\n",
       "       [0., 0., 0., 1., 0., 0.],\n",
       "       [0., 0., 0., 1., 0., 0.],\n",
       "       [0., 0., 0., 0., 1., 0.],\n",
       "       [0., 0., 0., 0., 1., 0.],\n",
       "       [0., 0., 0., 0., 0., 1.],\n",
       "       [0., 0., 0., 0., 0., 1.]], dtype=float32)>"
      ]
     },
     "execution_count": 34,
     "metadata": {},
     "output_type": "execute_result"
    }
   ],
   "source": [
    "onehot_layer_2(age_categories_2)"
   ]
  },
  {
   "cell_type": "markdown",
   "id": "d1ff415b",
   "metadata": {},
   "source": [
    "# StringLookup Layer"
   ]
  },
  {
   "cell_type": "code",
   "execution_count": 40,
   "id": "1dd4e752",
   "metadata": {},
   "outputs": [],
   "source": [
    "cities = ['Dallas', 'Austin', 'Fort-worth', 'Houston', 'Montreal', 'Cuba']"
   ]
  },
  {
   "cell_type": "code",
   "execution_count": 41,
   "id": "88e48445",
   "metadata": {},
   "outputs": [],
   "source": [
    "str_lookup_layer = tf.keras.layers.StringLookup()"
   ]
  },
  {
   "cell_type": "code",
   "execution_count": 42,
   "id": "3e533aff",
   "metadata": {},
   "outputs": [],
   "source": [
    "str_lookup_layer.adapt(cities)"
   ]
  },
  {
   "cell_type": "code",
   "execution_count": 43,
   "id": "5faf0148",
   "metadata": {},
   "outputs": [
    {
     "data": {
      "text/plain": [
       "<tf.Tensor: shape=(4, 1), dtype=int64, numpy=\n",
       "array([[6],\n",
       "       [4],\n",
       "       [1],\n",
       "       [0]])>"
      ]
     },
     "execution_count": 43,
     "metadata": {},
     "output_type": "execute_result"
    }
   ],
   "source": [
    "str_lookup_layer([['Austin'], ['Dallas'], ['Montreal'], ['Massachusetts']])"
   ]
  },
  {
   "cell_type": "markdown",
   "id": "4983e91e",
   "metadata": {},
   "source": [
    "# Embeddings"
   ]
  },
  {
   "cell_type": "code",
   "execution_count": 44,
   "id": "bc3abfd0",
   "metadata": {},
   "outputs": [],
   "source": [
    "tf.random.set_seed(42)"
   ]
  },
  {
   "cell_type": "code",
   "execution_count": 45,
   "id": "16a78562",
   "metadata": {},
   "outputs": [],
   "source": [
    "embedding_layer = tf.keras.layers.Embedding(input_dim=5, output_dim=2)"
   ]
  },
  {
   "cell_type": "code",
   "execution_count": 47,
   "id": "fa5a734e",
   "metadata": {},
   "outputs": [
    {
     "data": {
      "text/plain": [
       "<tf.Tensor: shape=(3, 2), dtype=float32, numpy=\n",
       "array([[ 2.6561808e-02, -3.7382316e-02],\n",
       "       [ 9.2327595e-05,  3.1468842e-02],\n",
       "       [ 2.6561808e-02, -3.7382316e-02]], dtype=float32)>"
      ]
     },
     "execution_count": 47,
     "metadata": {},
     "output_type": "execute_result"
    }
   ],
   "source": [
    "embedding_layer(np.array([2, 4, 2]))"
   ]
  },
  {
   "cell_type": "code",
   "execution_count": null,
   "id": "639f03bd",
   "metadata": {},
   "outputs": [],
   "source": []
  }
 ],
 "metadata": {
  "kernelspec": {
   "display_name": "Python 3 (ipykernel)",
   "language": "python",
   "name": "python3"
  },
  "language_info": {
   "codemirror_mode": {
    "name": "ipython",
    "version": 3
   },
   "file_extension": ".py",
   "mimetype": "text/x-python",
   "name": "python",
   "nbconvert_exporter": "python",
   "pygments_lexer": "ipython3",
   "version": "3.11.4"
  }
 },
 "nbformat": 4,
 "nbformat_minor": 5
}
