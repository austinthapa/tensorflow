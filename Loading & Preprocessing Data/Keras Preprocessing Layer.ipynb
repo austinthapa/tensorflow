{
 "cells": [
  {
   "cell_type": "code",
   "execution_count": 8,
   "id": "0d4094c2",
   "metadata": {},
   "outputs": [],
   "source": [
    "import tensorflow as tf\n",
    "\n",
    "from sklearn.datasets import fetch_california_housing\n",
    "from sklearn.model_selection import train_test_split"
   ]
  },
  {
   "cell_type": "code",
   "execution_count": 6,
   "id": "bda21556",
   "metadata": {},
   "outputs": [],
   "source": [
    "housing = fetch_california_housing()"
   ]
  },
  {
   "cell_type": "code",
   "execution_count": 7,
   "id": "89b52f4e",
   "metadata": {},
   "outputs": [],
   "source": [
    "X, y = housing.data, housing.target"
   ]
  },
  {
   "cell_type": "code",
   "execution_count": 9,
   "id": "25c1b01a",
   "metadata": {},
   "outputs": [],
   "source": [
    "X_train_full, X_test, y_train_full, y_test = train_test_split(X, y, test_size=0.15)"
   ]
  },
  {
   "cell_type": "code",
   "execution_count": 10,
   "id": "b88daee0",
   "metadata": {},
   "outputs": [],
   "source": [
    "X_train, X_valid, y_train, y_valid = train_test_split(X_train_full, y_train_full, test_size=0.15)"
   ]
  },
  {
   "cell_type": "markdown",
   "id": "93938c93",
   "metadata": {},
   "source": [
    "# Normalization Layer"
   ]
  },
  {
   "cell_type": "code",
   "execution_count": 15,
   "id": "b5ffddeb",
   "metadata": {},
   "outputs": [],
   "source": [
    "norm_layer = tf.keras.layers.Normalization()"
   ]
  },
  {
   "cell_type": "code",
   "execution_count": 16,
   "id": "65bd7f39",
   "metadata": {},
   "outputs": [],
   "source": [
    "model = tf.keras.Sequential([\n",
    "    norm_layer,\n",
    "    tf.keras.layers.Dense(1)\n",
    "])"
   ]
  },
  {
   "cell_type": "code",
   "execution_count": 17,
   "id": "85b4013f",
   "metadata": {},
   "outputs": [],
   "source": [
    "model.compile(loss = 'mse', optimizer = 'adam')"
   ]
  },
  {
   "cell_type": "code",
   "execution_count": 18,
   "id": "14c75317",
   "metadata": {},
   "outputs": [],
   "source": [
    "norm_layer.adapt(X_train)"
   ]
  },
  {
   "cell_type": "code",
   "execution_count": 19,
   "id": "6c9e6b74",
   "metadata": {},
   "outputs": [
    {
     "name": "stdout",
     "output_type": "stream",
     "text": [
      "Epoch 1/4\n",
      "\u001b[1m466/466\u001b[0m \u001b[32m━━━━━━━━━━━━━━━━━━━━\u001b[0m\u001b[37m\u001b[0m \u001b[1m2s\u001b[0m 2ms/step - loss: 7.0463 - val_loss: 4.7949\n",
      "Epoch 2/4\n",
      "\u001b[1m466/466\u001b[0m \u001b[32m━━━━━━━━━━━━━━━━━━━━\u001b[0m\u001b[37m\u001b[0m \u001b[1m1s\u001b[0m 1ms/step - loss: 4.3112 - val_loss: 2.8976\n",
      "Epoch 3/4\n",
      "\u001b[1m466/466\u001b[0m \u001b[32m━━━━━━━━━━━━━━━━━━━━\u001b[0m\u001b[37m\u001b[0m \u001b[1m1s\u001b[0m 1ms/step - loss: 2.6425 - val_loss: 1.7562\n",
      "Epoch 4/4\n",
      "\u001b[1m466/466\u001b[0m \u001b[32m━━━━━━━━━━━━━━━━━━━━\u001b[0m\u001b[37m\u001b[0m \u001b[1m1s\u001b[0m 1ms/step - loss: 1.5569 - val_loss: 1.1229\n"
     ]
    },
    {
     "data": {
      "text/plain": [
       "<keras.src.callbacks.history.History at 0x180e63950>"
      ]
     },
     "execution_count": 19,
     "metadata": {},
     "output_type": "execute_result"
    }
   ],
   "source": [
    "model.fit(X_train, y_train, validation_data=(X_valid, y_valid), epochs=4)"
   ]
  },
  {
   "cell_type": "markdown",
   "id": "02bb9f2d",
   "metadata": {},
   "source": [
    "# Discretization Layer"
   ]
  },
  {
   "cell_type": "code",
   "execution_count": 20,
   "id": "f4e93684",
   "metadata": {},
   "outputs": [],
   "source": [
    "age = tf.constant([[10], [93], [54], [67], [34], [16],[29], [55], [64]])"
   ]
  },
  {
   "cell_type": "code",
   "execution_count": 21,
   "id": "fbcfef06",
   "metadata": {},
   "outputs": [
    {
     "data": {
      "text/plain": [
       "<tf.Tensor: shape=(9, 1), dtype=int32, numpy=\n",
       "array([[10],\n",
       "       [93],\n",
       "       [54],\n",
       "       [67],\n",
       "       [34],\n",
       "       [16],\n",
       "       [29],\n",
       "       [55],\n",
       "       [64]], dtype=int32)>"
      ]
     },
     "execution_count": 21,
     "metadata": {},
     "output_type": "execute_result"
    }
   ],
   "source": [
    "age"
   ]
  },
  {
   "cell_type": "code",
   "execution_count": 22,
   "id": "80cd48e7",
   "metadata": {},
   "outputs": [],
   "source": [
    "discretization_layer = tf.keras.layers.Discretization(bin_boundaries=[18, 50])"
   ]
  },
  {
   "cell_type": "code",
   "execution_count": 23,
   "id": "776a75b4",
   "metadata": {},
   "outputs": [],
   "source": [
    "age_categories = discretization_layer(age)"
   ]
  },
  {
   "cell_type": "code",
   "execution_count": 24,
   "id": "3afda0ff",
   "metadata": {},
   "outputs": [
    {
     "data": {
      "text/plain": [
       "<tf.Tensor: shape=(9, 1), dtype=int64, numpy=\n",
       "array([[0],\n",
       "       [2],\n",
       "       [2],\n",
       "       [2],\n",
       "       [1],\n",
       "       [0],\n",
       "       [1],\n",
       "       [2],\n",
       "       [2]])>"
      ]
     },
     "execution_count": 24,
     "metadata": {},
     "output_type": "execute_result"
    }
   ],
   "source": [
    "age_categories"
   ]
  },
  {
   "cell_type": "markdown",
   "id": "756ed6f4",
   "metadata": {},
   "source": [
    "# Category Encoding"
   ]
  },
  {
   "cell_type": "code",
   "execution_count": 25,
   "id": "fd48530b",
   "metadata": {},
   "outputs": [],
   "source": [
    "onehot_layer = tf.keras.layers.CategoryEncoding(num_tokens=3)"
   ]
  },
  {
   "cell_type": "code",
   "execution_count": 26,
   "id": "1abea627",
   "metadata": {},
   "outputs": [
    {
     "data": {
      "text/plain": [
       "<tf.Tensor: shape=(9, 3), dtype=float32, numpy=\n",
       "array([[1., 0., 0.],\n",
       "       [0., 0., 1.],\n",
       "       [0., 0., 1.],\n",
       "       [0., 0., 1.],\n",
       "       [0., 1., 0.],\n",
       "       [1., 0., 0.],\n",
       "       [0., 1., 0.],\n",
       "       [0., 0., 1.],\n",
       "       [0., 0., 1.]], dtype=float32)>"
      ]
     },
     "execution_count": 26,
     "metadata": {},
     "output_type": "execute_result"
    }
   ],
   "source": [
    "onehot_layer(age_categories)"
   ]
  },
  {
   "cell_type": "markdown",
   "id": "e8ca0659",
   "metadata": {},
   "source": [
    "# StringLookup Layer"
   ]
  },
  {
   "cell_type": "code",
   "execution_count": 74,
   "id": "68e09b01",
   "metadata": {},
   "outputs": [],
   "source": [
    "cities = ['Dallas', 'Austin', 'Dallas', 'Austin', 'Fort-worth', 'Houston', 'Houston']"
   ]
  },
  {
   "cell_type": "code",
   "execution_count": 75,
   "id": "1bd7cbc2",
   "metadata": {},
   "outputs": [],
   "source": [
    "str_lookup_layer = tf.keras.layers.StringLookup()"
   ]
  },
  {
   "cell_type": "code",
   "execution_count": 76,
   "id": "8d137e11",
   "metadata": {},
   "outputs": [],
   "source": [
    "str_lookup_layer.adapt(cities)"
   ]
  },
  {
   "cell_type": "code",
   "execution_count": 79,
   "id": "2aea7527",
   "metadata": {},
   "outputs": [
    {
     "data": {
      "text/plain": [
       "<tf.Tensor: shape=(2, 1), dtype=int64, numpy=\n",
       "array([[3],\n",
       "       [2]])>"
      ]
     },
     "execution_count": 79,
     "metadata": {},
     "output_type": "execute_result"
    }
   ],
   "source": [
    "str_lookup_layer([['Austin'], ['Dallas']])"
   ]
  },
  {
   "cell_type": "code",
   "execution_count": null,
   "id": "61d0beb3",
   "metadata": {},
   "outputs": [],
   "source": []
  }
 ],
 "metadata": {
  "kernelspec": {
   "display_name": "Python 3 (ipykernel)",
   "language": "python",
   "name": "python3"
  },
  "language_info": {
   "codemirror_mode": {
    "name": "ipython",
    "version": 3
   },
   "file_extension": ".py",
   "mimetype": "text/x-python",
   "name": "python",
   "nbconvert_exporter": "python",
   "pygments_lexer": "ipython3",
   "version": "3.11.4"
  }
 },
 "nbformat": 4,
 "nbformat_minor": 5
}
