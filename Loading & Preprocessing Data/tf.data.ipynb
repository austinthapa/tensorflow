{
 "cells": [
  {
   "cell_type": "markdown",
   "id": "e4f9a541",
   "metadata": {},
   "source": [
    "# The tf.data API"
   ]
  },
  {
   "cell_type": "code",
   "execution_count": 60,
   "id": "98f6d428",
   "metadata": {},
   "outputs": [],
   "source": [
    "import tensorflow as tf"
   ]
  },
  {
   "cell_type": "code",
   "execution_count": 64,
   "id": "0fff8403",
   "metadata": {},
   "outputs": [],
   "source": [
    "X = tf.range(5)"
   ]
  },
  {
   "cell_type": "code",
   "execution_count": 65,
   "id": "278d5cde",
   "metadata": {},
   "outputs": [],
   "source": [
    "dataset = tf.data.Dataset.from_tensor_slices(X)"
   ]
  },
  {
   "cell_type": "code",
   "execution_count": 66,
   "id": "f58f9a34",
   "metadata": {},
   "outputs": [
    {
     "name": "stdout",
     "output_type": "stream",
     "text": [
      "tf.Tensor(0, shape=(), dtype=int32)\n",
      "tf.Tensor(1, shape=(), dtype=int32)\n",
      "tf.Tensor(2, shape=(), dtype=int32)\n",
      "tf.Tensor(3, shape=(), dtype=int32)\n",
      "tf.Tensor(4, shape=(), dtype=int32)\n"
     ]
    },
    {
     "name": "stderr",
     "output_type": "stream",
     "text": [
      "2024-12-24 05:18:54.755156: W tensorflow/core/framework/local_rendezvous.cc:404] Local rendezvous is aborting with status: OUT_OF_RANGE: End of sequence\n"
     ]
    }
   ],
   "source": [
    "for item in dataset:\n",
    "    print(item)"
   ]
  },
  {
   "cell_type": "markdown",
   "id": "0fc14741",
   "metadata": {},
   "source": [
    "# Two dimensional Arrays"
   ]
  },
  {
   "cell_type": "code",
   "execution_count": 77,
   "id": "7a79ab19",
   "metadata": {},
   "outputs": [],
   "source": [
    "X_nested = {\n",
    "    'a': ([1, 2, 3], [4, 5, 6]),\n",
    "    'b':[7, 8, 9]\n",
    "}"
   ]
  },
  {
   "cell_type": "code",
   "execution_count": 78,
   "id": "0b50bd3b",
   "metadata": {},
   "outputs": [],
   "source": [
    "dataset = tf.data.Dataset.from_tensor_slices(X_nested)"
   ]
  },
  {
   "cell_type": "code",
   "execution_count": 79,
   "id": "d9fa370b",
   "metadata": {},
   "outputs": [
    {
     "name": "stdout",
     "output_type": "stream",
     "text": [
      "{'a': (<tf.Tensor: shape=(), dtype=int32, numpy=1>, <tf.Tensor: shape=(), dtype=int32, numpy=4>), 'b': <tf.Tensor: shape=(), dtype=int32, numpy=7>}\n",
      "{'a': (<tf.Tensor: shape=(), dtype=int32, numpy=2>, <tf.Tensor: shape=(), dtype=int32, numpy=5>), 'b': <tf.Tensor: shape=(), dtype=int32, numpy=8>}\n",
      "{'a': (<tf.Tensor: shape=(), dtype=int32, numpy=3>, <tf.Tensor: shape=(), dtype=int32, numpy=6>), 'b': <tf.Tensor: shape=(), dtype=int32, numpy=9>}\n"
     ]
    },
    {
     "name": "stderr",
     "output_type": "stream",
     "text": [
      "2024-12-24 05:22:04.130188: W tensorflow/core/framework/local_rendezvous.cc:404] Local rendezvous is aborting with status: OUT_OF_RANGE: End of sequence\n"
     ]
    }
   ],
   "source": [
    "for item in dataset:\n",
    "    print(item)"
   ]
  },
  {
   "cell_type": "markdown",
   "id": "affb218d",
   "metadata": {},
   "source": [
    "# tf.data.Dataset from various structures"
   ]
  },
  {
   "cell_type": "code",
   "execution_count": 92,
   "id": "57f9aa9e",
   "metadata": {},
   "outputs": [
    {
     "name": "stdout",
     "output_type": "stream",
     "text": [
      "{'a': <tf.Tensor: shape=(3,), dtype=int32, numpy=array([1, 2, 3], dtype=int32)>, 'b': <tf.Tensor: shape=(), dtype=int32, numpy=4>}\n",
      "{'a': <tf.Tensor: shape=(3,), dtype=int32, numpy=array([4, 5, 6], dtype=int32)>, 'b': <tf.Tensor: shape=(), dtype=int32, numpy=5>}\n"
     ]
    },
    {
     "name": "stderr",
     "output_type": "stream",
     "text": [
      "2024-12-24 05:24:08.747622: W tensorflow/core/framework/local_rendezvous.cc:404] Local rendezvous is aborting with status: OUT_OF_RANGE: End of sequence\n"
     ]
    }
   ],
   "source": [
    "X_nested = {\n",
    "    'a': [[1, 2, 3], [4, 5, 6]],\n",
    "    'b': [4, 5]\n",
    "}\n",
    "dataset = tf.data.Dataset.from_tensor_slices(X_nested)\n",
    "for item in dataset:\n",
    "    print(item)"
   ]
  },
  {
   "cell_type": "markdown",
   "id": "c7e7e991",
   "metadata": {},
   "source": [
    "# Chaining Transformations"
   ]
  },
  {
   "cell_type": "code",
   "execution_count": 93,
   "id": "5f37db57",
   "metadata": {},
   "outputs": [],
   "source": [
    "dataset = tf.data.Dataset.range(10)\n",
    "dataset = dataset.repeat(7).batch(4, drop_remainder=True)"
   ]
  },
  {
   "cell_type": "code",
   "execution_count": 94,
   "id": "7fb9dc65",
   "metadata": {},
   "outputs": [
    {
     "name": "stdout",
     "output_type": "stream",
     "text": [
      "tf.Tensor([0 1 2 3], shape=(4,), dtype=int64)\n",
      "tf.Tensor([4 5 6 7], shape=(4,), dtype=int64)\n",
      "tf.Tensor([8 9 0 1], shape=(4,), dtype=int64)\n",
      "tf.Tensor([2 3 4 5], shape=(4,), dtype=int64)\n",
      "tf.Tensor([6 7 8 9], shape=(4,), dtype=int64)\n",
      "tf.Tensor([0 1 2 3], shape=(4,), dtype=int64)\n",
      "tf.Tensor([4 5 6 7], shape=(4,), dtype=int64)\n",
      "tf.Tensor([8 9 0 1], shape=(4,), dtype=int64)\n",
      "tf.Tensor([2 3 4 5], shape=(4,), dtype=int64)\n",
      "tf.Tensor([6 7 8 9], shape=(4,), dtype=int64)\n",
      "tf.Tensor([0 1 2 3], shape=(4,), dtype=int64)\n",
      "tf.Tensor([4 5 6 7], shape=(4,), dtype=int64)\n",
      "tf.Tensor([8 9 0 1], shape=(4,), dtype=int64)\n",
      "tf.Tensor([2 3 4 5], shape=(4,), dtype=int64)\n",
      "tf.Tensor([6 7 8 9], shape=(4,), dtype=int64)\n",
      "tf.Tensor([0 1 2 3], shape=(4,), dtype=int64)\n",
      "tf.Tensor([4 5 6 7], shape=(4,), dtype=int64)\n"
     ]
    },
    {
     "name": "stderr",
     "output_type": "stream",
     "text": [
      "2024-12-24 05:25:18.390791: W tensorflow/core/framework/local_rendezvous.cc:404] Local rendezvous is aborting with status: OUT_OF_RANGE: End of sequence\n"
     ]
    }
   ],
   "source": [
    "for item in dataset:\n",
    "    print(item)"
   ]
  },
  {
   "cell_type": "markdown",
   "id": "506df0dc",
   "metadata": {},
   "source": [
    "## Example 2"
   ]
  },
  {
   "cell_type": "code",
   "execution_count": 95,
   "id": "87cf0010",
   "metadata": {},
   "outputs": [],
   "source": [
    "dataset = tf.data.Dataset.from_tensor_slices(tf.constant([1, 2, 3, 4, 5, 6, 7, 8, 9]))\n",
    "dataset = dataset.repeat(5).batch(5, drop_remainder=True)"
   ]
  },
  {
   "cell_type": "code",
   "execution_count": 97,
   "id": "4251866c",
   "metadata": {},
   "outputs": [
    {
     "name": "stdout",
     "output_type": "stream",
     "text": [
      "tf.Tensor([1 2 3 4 5], shape=(5,), dtype=int32)\n",
      "tf.Tensor([6 7 8 9 1], shape=(5,), dtype=int32)\n",
      "tf.Tensor([2 3 4 5 6], shape=(5,), dtype=int32)\n",
      "tf.Tensor([7 8 9 1 2], shape=(5,), dtype=int32)\n",
      "tf.Tensor([3 4 5 6 7], shape=(5,), dtype=int32)\n",
      "tf.Tensor([8 9 1 2 3], shape=(5,), dtype=int32)\n",
      "tf.Tensor([4 5 6 7 8], shape=(5,), dtype=int32)\n",
      "tf.Tensor([9 1 2 3 4], shape=(5,), dtype=int32)\n",
      "tf.Tensor([5 6 7 8 9], shape=(5,), dtype=int32)\n"
     ]
    },
    {
     "name": "stderr",
     "output_type": "stream",
     "text": [
      "2024-12-24 05:26:33.493076: W tensorflow/core/framework/local_rendezvous.cc:404] Local rendezvous is aborting with status: OUT_OF_RANGE: End of sequence\n"
     ]
    }
   ],
   "source": [
    "for element in dataset:\n",
    "    print(element)"
   ]
  },
  {
   "cell_type": "markdown",
   "id": "95e6a4b1",
   "metadata": {},
   "source": [
    "## Applying map function and transforming each item"
   ]
  },
  {
   "cell_type": "code",
   "execution_count": 98,
   "id": "543fd3c0",
   "metadata": {},
   "outputs": [
    {
     "name": "stdout",
     "output_type": "stream",
     "text": [
      "tf.Tensor([ 1  4  9 16 25], shape=(5,), dtype=int32)\n",
      "tf.Tensor([36 49 64 81  1], shape=(5,), dtype=int32)\n",
      "tf.Tensor([ 4  9 16 25 36], shape=(5,), dtype=int32)\n",
      "tf.Tensor([49 64 81  1  4], shape=(5,), dtype=int32)\n",
      "tf.Tensor([ 9 16 25 36 49], shape=(5,), dtype=int32)\n",
      "tf.Tensor([64 81  1  4  9], shape=(5,), dtype=int32)\n",
      "tf.Tensor([16 25 36 49 64], shape=(5,), dtype=int32)\n",
      "tf.Tensor([81  1  4  9 16], shape=(5,), dtype=int32)\n",
      "tf.Tensor([25 36 49 64 81], shape=(5,), dtype=int32)\n"
     ]
    },
    {
     "name": "stderr",
     "output_type": "stream",
     "text": [
      "2024-12-24 05:27:30.882772: W tensorflow/core/framework/local_rendezvous.cc:404] Local rendezvous is aborting with status: OUT_OF_RANGE: End of sequence\n"
     ]
    }
   ],
   "source": [
    "dataset = dataset.map(lambda x: x ** 2)\n",
    "for item in dataset:\n",
    "    print(item)"
   ]
  },
  {
   "cell_type": "markdown",
   "id": "f4ab027d",
   "metadata": {},
   "source": [
    "## Example 2"
   ]
  },
  {
   "cell_type": "code",
   "execution_count": 102,
   "id": "f5610b1a",
   "metadata": {},
   "outputs": [
    {
     "name": "stdout",
     "output_type": "stream",
     "text": [
      "tf.Tensor([1. 2. 3. 4. 5.], shape=(5,), dtype=float32)\n",
      "tf.Tensor([6. 7. 8. 9. 1.], shape=(5,), dtype=float32)\n",
      "tf.Tensor([2. 3. 4. 5. 6.], shape=(5,), dtype=float32)\n",
      "tf.Tensor([7. 8. 9. 1. 2.], shape=(5,), dtype=float32)\n",
      "tf.Tensor([3. 4. 5. 6. 7.], shape=(5,), dtype=float32)\n",
      "tf.Tensor([8. 9. 1. 2. 3.], shape=(5,), dtype=float32)\n",
      "tf.Tensor([4. 5. 6. 7. 8.], shape=(5,), dtype=float32)\n",
      "tf.Tensor([9. 1. 2. 3. 4.], shape=(5,), dtype=float32)\n",
      "tf.Tensor([5. 6. 7. 8. 9.], shape=(5,), dtype=float32)\n"
     ]
    },
    {
     "name": "stderr",
     "output_type": "stream",
     "text": [
      "2024-12-24 05:29:52.350496: W tensorflow/core/framework/local_rendezvous.cc:404] Local rendezvous is aborting with status: OUT_OF_RANGE: End of sequence\n"
     ]
    }
   ],
   "source": [
    "dataset = dataset.map(lambda x: tf.sqrt(tf.cast(x, tf.float32)))\n",
    "for item in dataset:\n",
    "    print(item)"
   ]
  },
  {
   "cell_type": "markdown",
   "id": "c4532a9a",
   "metadata": {},
   "source": [
    "## Filtering the data"
   ]
  },
  {
   "cell_type": "code",
   "execution_count": 103,
   "id": "7a963c06",
   "metadata": {},
   "outputs": [
    {
     "name": "stdout",
     "output_type": "stream",
     "text": [
      "tf.Tensor([6. 7. 8. 9. 1.], shape=(5,), dtype=float32)\n",
      "tf.Tensor([7. 8. 9. 1. 2.], shape=(5,), dtype=float32)\n",
      "tf.Tensor([3. 4. 5. 6. 7.], shape=(5,), dtype=float32)\n",
      "tf.Tensor([8. 9. 1. 2. 3.], shape=(5,), dtype=float32)\n",
      "tf.Tensor([4. 5. 6. 7. 8.], shape=(5,), dtype=float32)\n",
      "tf.Tensor([5. 6. 7. 8. 9.], shape=(5,), dtype=float32)\n"
     ]
    },
    {
     "name": "stderr",
     "output_type": "stream",
     "text": [
      "2024-12-24 05:30:54.101592: W tensorflow/core/framework/local_rendezvous.cc:404] Local rendezvous is aborting with status: OUT_OF_RANGE: End of sequence\n"
     ]
    }
   ],
   "source": [
    "dataset = dataset.filter(lambda x: tf.reduce_sum(x)> 20)\n",
    "for item in dataset:\n",
    "    print(item)"
   ]
  },
  {
   "cell_type": "markdown",
   "id": "bb0243d0",
   "metadata": {},
   "source": [
    "# Shuffling the data"
   ]
  },
  {
   "cell_type": "code",
   "execution_count": 104,
   "id": "55d1aa50",
   "metadata": {},
   "outputs": [],
   "source": [
    "X = tf.range(100)"
   ]
  },
  {
   "cell_type": "code",
   "execution_count": 108,
   "id": "a6f29f81",
   "metadata": {},
   "outputs": [
    {
     "name": "stdout",
     "output_type": "stream",
     "text": [
      "tf.Tensor([ 5  4  0  1  2 11 10], shape=(7,), dtype=int32)\n",
      "tf.Tensor([ 7  3 14 12 15  8  6], shape=(7,), dtype=int32)\n",
      "tf.Tensor([17 18 13  9 20 22 26], shape=(7,), dtype=int32)\n",
      "tf.Tensor([16 23 27 25 24 21 31], shape=(7,), dtype=int32)\n",
      "tf.Tensor([33 28 34 19 38 37 36], shape=(7,), dtype=int32)\n",
      "tf.Tensor([32 42 43 39 45 30 46], shape=(7,), dtype=int32)\n",
      "tf.Tensor([40 49 35 50 51 53 44], shape=(7,), dtype=int32)\n",
      "tf.Tensor([52 47 54 48 56 29 61], shape=(7,), dtype=int32)\n",
      "tf.Tensor([58 55 64 59 60 66 65], shape=(7,), dtype=int32)\n",
      "tf.Tensor([62 70 63 71 57 67 74], shape=(7,), dtype=int32)\n",
      "tf.Tensor([75 76 78 79 72 68 82], shape=(7,), dtype=int32)\n",
      "tf.Tensor([41 69 85 86 83 77 88], shape=(7,), dtype=int32)\n",
      "tf.Tensor([73 87 80 92 84 81 91], shape=(7,), dtype=int32)\n",
      "tf.Tensor([95 89 90 94 99 93 96], shape=(7,), dtype=int32)\n"
     ]
    },
    {
     "name": "stderr",
     "output_type": "stream",
     "text": [
      "2024-12-24 05:33:03.142666: W tensorflow/core/framework/local_rendezvous.cc:404] Local rendezvous is aborting with status: OUT_OF_RANGE: End of sequence\n"
     ]
    }
   ],
   "source": [
    "dataset = tf.data.Dataset.from_tensor_slices(X)\n",
    "dataset = dataset.shuffle(buffer_size=7, seed = 42).batch(7, drop_remainder=True)\n",
    "for item in dataset:\n",
    "    print(item)"
   ]
  },
  {
   "cell_type": "code",
   "execution_count": null,
   "id": "0a4637a5",
   "metadata": {},
   "outputs": [],
   "source": []
  }
 ],
 "metadata": {
  "kernelspec": {
   "display_name": "Python 3 (ipykernel)",
   "language": "python",
   "name": "python3"
  },
  "language_info": {
   "codemirror_mode": {
    "name": "ipython",
    "version": 3
   },
   "file_extension": ".py",
   "mimetype": "text/x-python",
   "name": "python",
   "nbconvert_exporter": "python",
   "pygments_lexer": "ipython3",
   "version": "3.11.4"
  }
 },
 "nbformat": 4,
 "nbformat_minor": 5
}
