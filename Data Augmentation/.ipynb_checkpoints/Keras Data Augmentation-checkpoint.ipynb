{
 "cells": [
  {
   "cell_type": "code",
   "execution_count": 13,
   "id": "cfbf0403",
   "metadata": {},
   "outputs": [],
   "source": [
    "import numpy as np\n",
    "import os\n",
    "import tensorflow as tf"
   ]
  },
  {
   "cell_type": "code",
   "execution_count": 17,
   "id": "d86e1e73",
   "metadata": {},
   "outputs": [],
   "source": [
    "if not os.path.exists('augmented_images_minions'):\n",
    "    os.makedirs('augmented_images_minions')"
   ]
  },
  {
   "cell_type": "code",
   "execution_count": 22,
   "id": "a82309c9",
   "metadata": {},
   "outputs": [],
   "source": [
    "from tensorflow.keras.preprocessing.image import ImageDataGenerator\n",
    "from tensorflow.keras.preprocessing import image"
   ]
  },
  {
   "cell_type": "code",
   "execution_count": 21,
   "id": "46fb41de",
   "metadata": {},
   "outputs": [],
   "source": [
    "data_generator = ImageDataGenerator(\n",
    "    rotation_range=20,\n",
    "    horizontal_flip=True, \n",
    "    vertical_flip=True, \n",
    "    width_shift_range=0.4,\n",
    "    height_shift_range=0.4, \n",
    "    zoom_range=0.4,\n",
    "    shear_range=0.2, \n",
    "    fill_mode='nearest'\n",
    ")"
   ]
  },
  {
   "cell_type": "code",
   "execution_count": 26,
   "id": "9c40cd72",
   "metadata": {},
   "outputs": [],
   "source": [
    "minion_image = image.load_img('/Users/anilthapa/Downloads/minions.jpg', target_size=(1000, 1000))\n",
    "minion_image = image.img_to_array(minion_image)\n",
    "minion_image = np.expand_dims(minion_image, axis = 0)"
   ]
  },
  {
   "cell_type": "code",
   "execution_count": 27,
   "id": "3ddfed6a",
   "metadata": {},
   "outputs": [],
   "source": [
    "i = 0\n",
    "for batch in data_generator.flow(minion_image, batch_size=2, save_to_dir='augmented_images_minions', save_prefix='aug', save_format='jpg'):\n",
    "    i+=1\n",
    "    if i > 10:\n",
    "        break"
   ]
  },
  {
   "cell_type": "code",
   "execution_count": null,
   "id": "f80e7e9c",
   "metadata": {},
   "outputs": [],
   "source": []
  },
  {
   "cell_type": "code",
   "execution_count": 16,
   "id": "0fdd0ffc",
   "metadata": {},
   "outputs": [],
   "source": [
    "from tensorflow.keras.preprocessing.image import ImageDataGenerator\n",
    "\n",
    "# Create an instance of the ImageDataGenerator class with augmentation options\n",
    "datagen = ImageDataGenerator(\n",
    "    rotation_range=40,       # Rotate images up to 40 degrees\n",
    "    width_shift_range=0.2,   # Horizontally shift images by 20%\n",
    "    height_shift_range=0.2,  # Vertically shift images by 20%\n",
    "    shear_range=0.2,         # Shear transformations\n",
    "    zoom_range=0.2,          # Zoom in/out by 20%\n",
    "    horizontal_flip=True,    # Flip images horizontally\n",
    "    fill_mode='nearest'      # Fill in missing pixels after transformations\n",
    ")\n",
    "\n",
    "# Load and preprocess an image (example using a numpy array)\n",
    "from tensorflow.keras.preprocessing import image\n",
    "import numpy as np\n",
    "\n",
    "img = image.load_img('/Users/anilthapa/Downloads/digital-passport.jpg', target_size=(150, 150))  # Load image\n",
    "x = image.img_to_array(img)  # Convert the image to a numpy array\n",
    "x = np.expand_dims(x, axis=0)  # Add batch dimension\n",
    "\n",
    "# Generate augmented images\n",
    "i = 0\n",
    "for batch in datagen.flow(x, batch_size=1, save_to_dir='augmented_images', save_prefix='aug', save_format='jpeg'):\n",
    "    i += 1\n",
    "    if i > 10:\n",
    "        break  # Generate 10 augmented images and then stop\n"
   ]
  },
  {
   "cell_type": "code",
   "execution_count": null,
   "id": "30f0cf72",
   "metadata": {},
   "outputs": [],
   "source": []
  }
 ],
 "metadata": {
  "kernelspec": {
   "display_name": "Python 3 (ipykernel)",
   "language": "python",
   "name": "python3"
  },
  "language_info": {
   "codemirror_mode": {
    "name": "ipython",
    "version": 3
   },
   "file_extension": ".py",
   "mimetype": "text/x-python",
   "name": "python",
   "nbconvert_exporter": "python",
   "pygments_lexer": "ipython3",
   "version": "3.11.4"
  }
 },
 "nbformat": 4,
 "nbformat_minor": 5
}
