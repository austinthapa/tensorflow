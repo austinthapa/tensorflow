{
 "cells": [
  {
   "cell_type": "markdown",
   "id": "431381eb",
   "metadata": {},
   "source": [
    "Packages Installed:\n",
    "1. pretty_midi\n",
    "2. pyfluidsynth\n",
    "\n",
    "pretty_midi library is used to create and parse MIDI files, and pyfluidsynth for generating audio playback in Colab"
   ]
  },
  {
   "cell_type": "markdown",
   "id": "e1a9135e",
   "metadata": {},
   "source": [
    "## Imports"
   ]
  },
  {
   "cell_type": "code",
   "execution_count": 15,
   "id": "2d010e80",
   "metadata": {},
   "outputs": [],
   "source": [
    "import collections\n",
    "import datetime\n",
    "import glob\n",
    "import pretty_midi\n",
    "import fluidsynth\n",
    "import numpy as np\n",
    "import pandas as pd\n",
    "import matplotlib.pyplot as plt\n",
    "import seaborn as sns\n",
    "import tensorflow as tf\n",
    "\n",
    "from IPython import display\n",
    "from typing import Dict, List, Optional, Sequence, Tuple"
   ]
  },
  {
   "cell_type": "code",
   "execution_count": 16,
   "id": "e0386311",
   "metadata": {},
   "outputs": [],
   "source": [
    "seed = 42\n",
    "np.random.seed(seed)\n",
    "tf.random.set_seed(seed)\n",
    "SAMPLING_RATE = 16000"
   ]
  },
  {
   "cell_type": "code",
   "execution_count": 17,
   "id": "85ec24b9",
   "metadata": {},
   "outputs": [],
   "source": [
    "data_dir = pathlib.Path('/data/maestro-v2.0.0')\n",
    "if not data_dir.exists():\n",
    "    tf.keras.utils.get_file(\n",
    "        'maestro-v2.0.0-midi.zip',\n",
    "        origin = 'https://storage.googleapis.com/magentadata/datasets/maestro/v2.0.0/maestro-v2.0.0-midi.zip',\n",
    "        extract=True, \n",
    "        cache_dir='.',\n",
    "        cache_subdir='data'\n",
    "    )"
   ]
  },
  {
   "cell_type": "code",
   "execution_count": 20,
   "id": "7eaee501",
   "metadata": {},
   "outputs": [],
   "source": [
    "data_dir = pathlib.Path('data/maestro-v2.0.0')\n",
    "if not data_dir.exists():\n",
    "    tf.keras.utils.get_file(\n",
    "      'maestro-v2.0.0-midi.zip',\n",
    "      origin='https://storage.googleapis.com/magentadata/datasets/maestro/v2.0.0/maestro-v2.0.0-midi.zip',\n",
    "      extract=True,\n",
    "      cache_dir='.', cache_subdir='data',\n",
    "  )"
   ]
  },
  {
   "cell_type": "code",
   "execution_count": 21,
   "id": "2e41a1a8",
   "metadata": {},
   "outputs": [],
   "source": [
    "filenames = glob.glob(str(data_dir/'**/*.mid*'))"
   ]
  },
  {
   "cell_type": "code",
   "execution_count": 22,
   "id": "3a085fd0",
   "metadata": {},
   "outputs": [
    {
     "data": {
      "text/plain": [
       "1282"
      ]
     },
     "execution_count": 22,
     "metadata": {},
     "output_type": "execute_result"
    }
   ],
   "source": [
    "len(filenames)"
   ]
  },
  {
   "cell_type": "code",
   "execution_count": 27,
   "id": "08566de2",
   "metadata": {},
   "outputs": [
    {
     "data": {
      "text/plain": [
       "'data/maestro-v2.0.0/2013/ORIG-MIDI_01_7_7_13_Group__MID--AUDIO_12_R1_2013_wav--1.midi'"
      ]
     },
     "execution_count": 27,
     "metadata": {},
     "output_type": "execute_result"
    }
   ],
   "source": [
    "filenames[0]"
   ]
  },
  {
   "cell_type": "markdown",
   "id": "bfbcf70b",
   "metadata": {},
   "source": [
    "## Generate a PrettyMIDI object for the sample MIDI file"
   ]
  },
  {
   "cell_type": "code",
   "execution_count": 28,
   "id": "5778d945",
   "metadata": {},
   "outputs": [],
   "source": [
    "sample_file = filenames[1]"
   ]
  },
  {
   "cell_type": "code",
   "execution_count": 29,
   "id": "31118380",
   "metadata": {},
   "outputs": [],
   "source": [
    "pm = pretty_midi.PrettyMIDI(sample_file)"
   ]
  },
  {
   "cell_type": "code",
   "execution_count": 30,
   "id": "d888b45a",
   "metadata": {},
   "outputs": [
    {
     "data": {
      "text/plain": [
       "<pretty_midi.pretty_midi.PrettyMIDI at 0x15243be50>"
      ]
     },
     "execution_count": 30,
     "metadata": {},
     "output_type": "execute_result"
    }
   ],
   "source": [
    "pm"
   ]
  },
  {
   "cell_type": "markdown",
   "id": "37a5480b",
   "metadata": {},
   "source": [
    "### Play the sample file"
   ]
  },
  {
   "cell_type": "code",
   "execution_count": 32,
   "id": "8abb892c",
   "metadata": {},
   "outputs": [],
   "source": [
    "def display_audio(pm: pretty_midi.PrettyMIDI, seconds = 30):\n",
    "    waveform = pm.fluidsynth(fs=SAMPLING_RATE)\n",
    "    \n",
    "    waveform_short = waveform[:seconds * SAMPLING_RATE]\n",
    "    return display.Audio(waveform_short, rate = SAMPLING_RATE)"
   ]
  },
  {
   "cell_type": "code",
   "execution_count": 33,
   "id": "e6d3c2e8",
   "metadata": {},
   "outputs": [
    {
     "ename": "AttributeError",
     "evalue": "module 'fluidsynth' has no attribute 'Synth'",
     "output_type": "error",
     "traceback": [
      "\u001b[0;31m---------------------------------------------------------------------------\u001b[0m",
      "\u001b[0;31mAttributeError\u001b[0m                            Traceback (most recent call last)",
      "Cell \u001b[0;32mIn[33], line 1\u001b[0m\n\u001b[0;32m----> 1\u001b[0m display_audio(pm)\n",
      "Cell \u001b[0;32mIn[32], line 2\u001b[0m, in \u001b[0;36mdisplay_audio\u001b[0;34m(pm, seconds)\u001b[0m\n\u001b[1;32m      1\u001b[0m \u001b[38;5;28;01mdef\u001b[39;00m \u001b[38;5;21mdisplay_audio\u001b[39m(pm: pretty_midi\u001b[38;5;241m.\u001b[39mPrettyMIDI, seconds \u001b[38;5;241m=\u001b[39m \u001b[38;5;241m30\u001b[39m):\n\u001b[0;32m----> 2\u001b[0m     waveform \u001b[38;5;241m=\u001b[39m pm\u001b[38;5;241m.\u001b[39mfluidsynth(fs\u001b[38;5;241m=\u001b[39mSAMPLING_RATE)\n\u001b[1;32m      4\u001b[0m     waveform_short \u001b[38;5;241m=\u001b[39m waveform[:seconds \u001b[38;5;241m*\u001b[39m SAMPLING_RATE]\n\u001b[1;32m      5\u001b[0m     \u001b[38;5;28;01mreturn\u001b[39;00m display\u001b[38;5;241m.\u001b[39mAudio(waveform_short, rate \u001b[38;5;241m=\u001b[39m SAMPLING_RATE)\n",
      "File \u001b[0;32m~/anaconda3/lib/python3.11/site-packages/pretty_midi/pretty_midi.py:974\u001b[0m, in \u001b[0;36mPrettyMIDI.fluidsynth\u001b[0;34m(self, fs, sf2_path)\u001b[0m\n\u001b[1;32m    972\u001b[0m     \u001b[38;5;28;01mreturn\u001b[39;00m np\u001b[38;5;241m.\u001b[39marray([])\n\u001b[1;32m    973\u001b[0m \u001b[38;5;66;03m# Get synthesized waveform for each instrument\u001b[39;00m\n\u001b[0;32m--> 974\u001b[0m waveforms \u001b[38;5;241m=\u001b[39m [i\u001b[38;5;241m.\u001b[39mfluidsynth(fs\u001b[38;5;241m=\u001b[39mfs,\n\u001b[1;32m    975\u001b[0m                           sf2_path\u001b[38;5;241m=\u001b[39msf2_path) \u001b[38;5;28;01mfor\u001b[39;00m i \u001b[38;5;129;01min\u001b[39;00m \u001b[38;5;28mself\u001b[39m\u001b[38;5;241m.\u001b[39minstruments]\n\u001b[1;32m    976\u001b[0m \u001b[38;5;66;03m# Allocate output waveform, with #sample = max length of all waveforms\u001b[39;00m\n\u001b[1;32m    977\u001b[0m synthesized \u001b[38;5;241m=\u001b[39m np\u001b[38;5;241m.\u001b[39mzeros(np\u001b[38;5;241m.\u001b[39mmax([w\u001b[38;5;241m.\u001b[39mshape[\u001b[38;5;241m0\u001b[39m] \u001b[38;5;28;01mfor\u001b[39;00m w \u001b[38;5;129;01min\u001b[39;00m waveforms]))\n",
      "File \u001b[0;32m~/anaconda3/lib/python3.11/site-packages/pretty_midi/pretty_midi.py:974\u001b[0m, in \u001b[0;36m<listcomp>\u001b[0;34m(.0)\u001b[0m\n\u001b[1;32m    972\u001b[0m     \u001b[38;5;28;01mreturn\u001b[39;00m np\u001b[38;5;241m.\u001b[39marray([])\n\u001b[1;32m    973\u001b[0m \u001b[38;5;66;03m# Get synthesized waveform for each instrument\u001b[39;00m\n\u001b[0;32m--> 974\u001b[0m waveforms \u001b[38;5;241m=\u001b[39m [i\u001b[38;5;241m.\u001b[39mfluidsynth(fs\u001b[38;5;241m=\u001b[39mfs,\n\u001b[1;32m    975\u001b[0m                           sf2_path\u001b[38;5;241m=\u001b[39msf2_path) \u001b[38;5;28;01mfor\u001b[39;00m i \u001b[38;5;129;01min\u001b[39;00m \u001b[38;5;28mself\u001b[39m\u001b[38;5;241m.\u001b[39minstruments]\n\u001b[1;32m    976\u001b[0m \u001b[38;5;66;03m# Allocate output waveform, with #sample = max length of all waveforms\u001b[39;00m\n\u001b[1;32m    977\u001b[0m synthesized \u001b[38;5;241m=\u001b[39m np\u001b[38;5;241m.\u001b[39mzeros(np\u001b[38;5;241m.\u001b[39mmax([w\u001b[38;5;241m.\u001b[39mshape[\u001b[38;5;241m0\u001b[39m] \u001b[38;5;28;01mfor\u001b[39;00m w \u001b[38;5;129;01min\u001b[39;00m waveforms]))\n",
      "File \u001b[0;32m~/anaconda3/lib/python3.11/site-packages/pretty_midi/instrument.py:468\u001b[0m, in \u001b[0;36mInstrument.fluidsynth\u001b[0;34m(self, fs, sf2_path)\u001b[0m\n\u001b[1;32m    465\u001b[0m     \u001b[38;5;28;01mreturn\u001b[39;00m np\u001b[38;5;241m.\u001b[39marray([])\n\u001b[1;32m    467\u001b[0m \u001b[38;5;66;03m# Create fluidsynth instance\u001b[39;00m\n\u001b[0;32m--> 468\u001b[0m fl \u001b[38;5;241m=\u001b[39m fluidsynth\u001b[38;5;241m.\u001b[39mSynth(samplerate\u001b[38;5;241m=\u001b[39mfs)\n\u001b[1;32m    469\u001b[0m \u001b[38;5;66;03m# Load in the soundfont\u001b[39;00m\n\u001b[1;32m    470\u001b[0m sfid \u001b[38;5;241m=\u001b[39m fl\u001b[38;5;241m.\u001b[39msfload(sf2_path)\n",
      "\u001b[0;31mAttributeError\u001b[0m: module 'fluidsynth' has no attribute 'Synth'"
     ]
    }
   ],
   "source": [
    "display_audio(pm)"
   ]
  },
  {
   "cell_type": "code",
   "execution_count": null,
   "id": "d5bfd57c",
   "metadata": {},
   "outputs": [],
   "source": []
  }
 ],
 "metadata": {
  "kernelspec": {
   "display_name": "Python 3 (ipykernel)",
   "language": "python",
   "name": "python3"
  },
  "language_info": {
   "codemirror_mode": {
    "name": "ipython",
    "version": 3
   },
   "file_extension": ".py",
   "mimetype": "text/x-python",
   "name": "python",
   "nbconvert_exporter": "python",
   "pygments_lexer": "ipython3",
   "version": "3.11.4"
  }
 },
 "nbformat": 4,
 "nbformat_minor": 5
}
